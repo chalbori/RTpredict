{
 "cells": [
  {
   "cell_type": "code",
   "execution_count": null,
   "metadata": {},
   "outputs": [],
   "source": [
    "#import libraries\n",
    "from mordred import Calculator, descriptors, is_missing\n",
    "# from sklearn.externals.joblib import load\n",
    "from joblib import load\n",
    "import pandas as pd\n",
    "import math\n",
    "from sklearn.linear_model import LinearRegression\n",
    "from pandas import DataFrame\n",
    "from rdkit.Chem.inchi import *\n",
    "from rdkit import Chem\n",
    "from rdkit.Chem import AllChem\n",
    "from rdkit.Chem import PandasToolsmo\n",
    "from rdkit.Chem import inchi\n",
    "import numpy as np\n",
    "from rdkit.Chem.rdMolDescriptors import GetMorganFingerprintAsBitVect\n",
    "from rdkit.Chem.rdMolDescriptors import CalcMolFormula\n",
    "from rdkit.Chem.rdMolDescriptors import CalcExactMolWt\n",
    "from rdkit.DataStructs.cDataStructs import ConvertToNumpyArray\n",
    "import rdkit\n",
    "# from tqdm import tqdm\n",
    "from tqdm.notebook import tqdm\n",
    "import xgboost as xgb\n",
    "from pandas import Panel\n",
    "tqdm.pandas()\n",
    "PandasTools.RenderImagesInAllDataFrames(images=True)"
   ]
  },
  {
   "cell_type": "code",
   "execution_count": null,
   "metadata": {},
   "outputs": [],
   "source": [
    "# function for descriptors using MORDERED\n",
    "calc = Calculator(descriptors, ignore_3D=True)\n",
    "def mord(mol, nBits=1613, errors_as_zeros=True):\n",
    "    try:\n",
    "        result = calc(mol)\n",
    "        desc_list = [r if not is_missing(r) else 0 for r in result]\n",
    "        np_arr = np.array(desc_list)\n",
    "        return np_arr\n",
    "    except:\n",
    "        return np.NaN if not errors_as_zeros else np.zeros((nBits,), dtype=np.float32)"
   ]
  },
  {
   "cell_type": "code",
   "execution_count": null,
   "metadata": {},
   "outputs": [],
   "source": [
    "#Load standard_scaler and pre-trained models\n",
    "s=load('../models/std_scaler.bin')\n",
    "mord_bin= xgb.Booster()\n",
    "mord_reg = xgb.Booster()\n",
    "mord_bin.load_model('../models/mordred_bin.model')\n",
    "mord_reg.load_model('../models/mordred_reg.model')"
   ]
  },
  {
   "cell_type": "code",
   "execution_count": null,
   "metadata": {
    "tags": [
     "outputPrepend"
    ]
   },
   "outputs": [],
   "source": [
    "data = pd.DataFrame(columns=['Name', 'InChI', 'Class', 'Direct Parent', 'Subclass', 'Superclass', 'Polar', 'ID'])\n",
    "sdf = open('../resources/bmdms_annotated_polarity.sdf', 'rb')\n",
    "# sdf = open('../resources/biopurify_annotated-714cpds_PreADMET_PP_Canvas.sdf', 'rb')\n",
    "fsuppl = Chem.ForwardSDMolSupplier(sdf)\n",
    "\n",
    "def get_prop(mol, property_name):\n",
    "    return_value = mol.GetProp(property_name)\n",
    "    if return_value:\n",
    "        return return_value\n",
    "    else:\n",
    "        return ''\n",
    "\n",
    "for mol in fsuppl:\n",
    "    if mol:\n",
    "        name_value = get_prop(mol, '_Name')\n",
    "        inchi_value = inchi.MolToInchi(mol)\n",
    "        try:\n",
    "            class_value = mol.GetProp('Class')\n",
    "        except:\n",
    "            class_value = ''\n",
    "        try:\n",
    "            direct_parent_value = mol.GetProp('Direct Parent')\n",
    "        except:\n",
    "            direct_parent_value = ''\n",
    "        try:\n",
    "            subclass_value = mol.GetProp('Subclass')\n",
    "        except:\n",
    "            subclass_value = ''\n",
    "        try:\n",
    "            superclass_value = mol.GetProp('Superclass')\n",
    "        except:\n",
    "            superclass_value = ''\n",
    "        polar_value = mol.GetProp('Polar')\n",
    "        try:\n",
    "            id_value = mol.GetProp('BMDRC_ID')\n",
    "        except:\n",
    "            id_value = ''\n",
    "\n",
    "        data = data.append({'Name':name_value, 'InChI':inchi_value, 'Class':class_value, 'Direct Parent':direct_parent_value, 'Subclass':subclass_value, 'Superclass':superclass_value, 'Polar':polar_value, 'ID':id_value}, ignore_index=True)\n",
    "    "
   ]
  },
  {
   "cell_type": "code",
   "execution_count": null,
   "metadata": {},
   "outputs": [],
   "source": [
    "mord_reg.save_model('../models/mord_reg.model')\n",
    "mord_reg.load_model('../models/mord_reg.model')"
   ]
  },
  {
   "cell_type": "code",
   "execution_count": null,
   "metadata": {},
   "outputs": [],
   "source": [
    "# data"
   ]
  },
  {
   "cell_type": "code",
   "execution_count": null,
   "metadata": {
    "scrolled": true
   },
   "outputs": [],
   "source": [
    "# Converting to appropriate format:\n",
    "data['mol'] = data['InChI'].progress_apply(MolFromInchi)\n",
    "data['MolFormula'] = data['mol'].progress_apply(CalcMolFormula)\n",
    "data['MolExactWt'] = data['mol'].progress_apply(CalcExactMolWt)\n",
    "data['mordred'] = data['mol'].progress_apply(mord)\n",
    "sample = xgb.DMatrix(np.vstack(data['mordred'].values))\n"
   ]
  },
  {
   "cell_type": "code",
   "execution_count": null,
   "metadata": {},
   "outputs": [],
   "source": [
    "pred_bin = mord_bin.predict(sample)\n",
    "pred_reg = mord_reg.predict(sample)\n",
    "pred_reg= s.inverse_transform(pred_reg).reshape(-1,1)"
   ]
  },
  {
   "cell_type": "code",
   "execution_count": null,
   "metadata": {},
   "outputs": [],
   "source": [
    "# pred_reg"
   ]
  },
  {
   "cell_type": "code",
   "execution_count": null,
   "metadata": {},
   "outputs": [],
   "source": [
    "data['Binary_retained'] = pred_bin\n",
    "data['Predicted_RT'] = pred_reg\n",
    "\n",
    "out = pd.DataFrame(list(zip(data['Name'], data['mol'], data['MolFormula'], data['MolExactWt'], data['InChI'], data['Class'], data['Direct Parent'], data['Subclass'], data['Superclass'], data['Polar'], data['ID'], data['Binary_retained'], data['Predicted_RT'])), columns=['Name', 'mol','MolFormula', 'MolExactWt', 'InChI', 'Class', 'Direct Parent', 'Subclass', 'Superclass', 'Polar', 'ID', 'Binary_retained', 'Predicted_RT'])"
   ]
  },
  {
   "cell_type": "code",
   "execution_count": null,
   "metadata": {},
   "outputs": [],
   "source": [
    "# PandasTools.SaveXlsxFromFrame(out, \"../out/output_biopurify.xlsx\", molCol=\"mol\", size=(200,200))\n",
    "PandasTools.SaveXlsxFromFrame(out, \"../out/output_bmdms.xlsx\", molCol=\"mol\", size=(200,200))"
   ]
  },
  {
   "cell_type": "code",
   "execution_count": null,
   "metadata": {},
   "outputs": [],
   "source": [
    "data"
   ]
  },
  {
   "cell_type": "code",
   "execution_count": null,
   "metadata": {},
   "outputs": [],
   "source": []
  }
 ],
 "metadata": {
  "kernelspec": {
   "display_name": "Python 3",
   "language": "python",
   "name": "python3"
  },
  "language_info": {
   "codemirror_mode": {
    "name": "ipython",
    "version": 3
   },
   "file_extension": ".py",
   "mimetype": "text/x-python",
   "name": "python",
   "nbconvert_exporter": "python",
   "pygments_lexer": "ipython3",
   "version": "3.6.12-final"
  }
 },
 "nbformat": 4,
 "nbformat_minor": 2
}