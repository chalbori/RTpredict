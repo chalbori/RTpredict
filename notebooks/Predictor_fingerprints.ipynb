{
 "cells": [
  {
   "cell_type": "code",
   "execution_count": 1,
   "metadata": {},
   "outputs": [
    {
     "name": "stderr",
     "output_type": "stream",
     "text": [
      "C:\\Users\\Sergey\\anaconda3\\lib\\site-packages\\sklearn\\externals\\joblib\\__init__.py:15: FutureWarning: sklearn.externals.joblib is deprecated in 0.21 and will be removed in 0.23. Please import this functionality directly from joblib, which can be installed with: pip install joblib. If this warning is raised when loading pickled models, you may need to re-serialize those models with scikit-learn 0.21+.\n",
      "  warnings.warn(msg, category=FutureWarning)\n",
      "C:\\Users\\Sergey\\anaconda3\\lib\\site-packages\\ipykernel_launcher.py:17: FutureWarning: The Panel class is removed from pandas. Accessing it from the top-level namespace will also be removed in the next version\n",
      "C:\\Users\\Sergey\\anaconda3\\lib\\site-packages\\tqdm\\std.py:658: FutureWarning: The Panel class is removed from pandas. Accessing it from the top-level namespace will also be removed in the next version\n",
      "  from pandas import Panel\n"
     ]
    }
   ],
   "source": [
    "#import libraries\n",
    "from sklearn.externals.joblib import load\n",
    "import pandas as pd\n",
    "import math\n",
    "from pandas import DataFrame\n",
    "from rdkit.Chem.inchi import *\n",
    "from rdkit import Chem\n",
    "from sklearn.linear_model import LinearRegression\n",
    "from rdkit.Chem import AllChem\n",
    "import numpy as np\n",
    "from rdkit.Chem.rdMolDescriptors import GetMorganFingerprintAsBitVect\n",
    "from rdkit.DataStructs.cDataStructs import ConvertToNumpyArray\n",
    "import rdkit\n",
    "# from tqdm import tqdm\n",
    "from tqdm.notebook import tqdm\n",
    "import xgboost as xgb\n",
    "from pandas import Panel\n",
    "tqdm.pandas()\n",
    "import matplotlib.pyplot as plt\n",
    "import os"
   ]
  },
  {
   "cell_type": "code",
   "execution_count": 2,
   "metadata": {},
   "outputs": [],
   "source": [
    "# function for descriptors using RDKIT ECFP\n",
    "def morgan(mol, r=3, nBits=8128, errors_as_zeros=True):\n",
    "    try:\n",
    "        arr = np.zeros((1,))\n",
    "        ConvertToNumpyArray(GetMorganFingerprintAsBitVect(mol, r, nBits), arr)\n",
    "        return arr.astype(np.float32)\n",
    "    except:\n",
    "        return np.NaN if not errors_as_zeros else np.zeros((nBits,), dtype=np.float32)"
   ]
  },
  {
   "cell_type": "code",
   "execution_count": null,
   "metadata": {},
   "outputs": [],
   "source": []
  },
  {
   "cell_type": "code",
   "execution_count": 3,
   "metadata": {},
   "outputs": [],
   "source": [
    "def predict(input_file, output_file):\n",
    "    #load models\n",
    "    s=load('../models/std_scaler.bin')\n",
    "    morg_bin= xgb.Booster()\n",
    "    morg_reg = xgb.Booster()\n",
    "    morg_bin.load_model('../models/morgan_bin.model')\n",
    "    morg_reg.load_model('../models/morgan_reg.model') \n",
    "    #load data\n",
    "    try:\n",
    "        data = pd.read_csv(input_file, delimiter=\";\")\n",
    "    except:\n",
    "        data = pd.read_csv(input_file, delimiter=\",\")\n",
    "    data['mol'] = data['InChI'].progress_apply(MolFromInchi)\n",
    "    data['morgan'] = data['mol'].progress_apply(morgan)\n",
    "    sample = xgb.DMatrix(np.vstack(data['morgan'].values))\n",
    "    #get predictions\n",
    "    pred_bin = morg_bin.predict(sample)\n",
    "    pred_reg = np.array(morg_reg.predict(sample))\n",
    "    pred_reg= s.inverse_transform(pred_reg).reshape(-1,1)\n",
    "    #write output file\n",
    "    data['Binary_retained'] = pred_bin\n",
    "    data['Predicted_RT'] = pred_reg\n",
    "    out = pd.DataFrame(list(zip(data['CID'], data['InChI'], data['Binary_retained'], data['Predicted_RT'])), columns=['CID', 'inchi', 'Binary_retained', 'Predicted_RT'])\n",
    "    export_csv = out.to_csv (output_file, index = None, header=True, sep=';')\n",
    "    \n",
    "    "
   ]
  },
  {
   "cell_type": "code",
   "execution_count": 4,
   "metadata": {},
   "outputs": [],
   "source": [
    "folders = os.listdir('../data/isomers/')"
   ]
  },
  {
   "cell_type": "code",
   "execution_count": 6,
   "metadata": {},
   "outputs": [],
   "source": [
    "%%capture\n",
    "folders = ['Eawag_XBridgeC18']\n",
    "for folder in folders:\n",
    "    os.makedirs('../data/predictions/isomers/'+folder, exist_ok=True)\n",
    "    output_dir = '../data/predictions/isomers/'+folder+'/'\n",
    "    path = '../data/isomers/'+folder+'/'\n",
    "    for file in os.listdir(path):\n",
    "        input_file = path+file\n",
    "        print(input_file)\n",
    "        output_file = output_dir+'pred_morg_'+file\n",
    "        predict(input_file, output_file)"
   ]
  },
  {
   "cell_type": "code",
   "execution_count": null,
   "metadata": {},
   "outputs": [],
   "source": []
  },
  {
   "cell_type": "code",
   "execution_count": null,
   "metadata": {},
   "outputs": [],
   "source": []
  }
 ],
 "metadata": {
  "kernelspec": {
   "display_name": "Python 3",
   "language": "python",
   "name": "python3"
  },
  "language_info": {
   "codemirror_mode": {
    "name": "ipython",
    "version": 3
   },
   "file_extension": ".py",
   "mimetype": "text/x-python",
   "name": "python",
   "nbconvert_exporter": "python",
   "pygments_lexer": "ipython3",
   "version": "3.7.6"
  }
 },
 "nbformat": 4,
 "nbformat_minor": 2
}
