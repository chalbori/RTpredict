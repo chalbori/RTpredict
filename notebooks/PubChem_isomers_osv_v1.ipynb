{
 "cells": [
  {
   "cell_type": "code",
   "execution_count": 4,
   "metadata": {},
   "outputs": [],
   "source": [
    "import rdkit\n",
    "from rdkit.Chem.inchi import *\n",
    "from rdkit import Chem\n",
    "from rdkit.Chem.rdchem import Mol\n",
    "\n",
    "import pandas as pd\n",
    "from tqdm.notebook import tqdm\n",
    "import urllib.request\n",
    "import pubchempy as pcp\n",
    "tqdm.pandas()"
   ]
  },
  {
   "cell_type": "code",
   "execution_count": 5,
   "metadata": {},
   "outputs": [],
   "source": [
    "#downloads list of isomers from pubchem\n",
    "#removes \".\" containing smiles\n",
    "#removes duplicates\n",
    "\n",
    "def find_bad_str(string):\n",
    "    return string.find('.')==-1\n",
    "     \n",
    "def get_list_of_isomers(formula, output_path):\n",
    "    cmpds=pcp.get_cids(formula, 'formula')\n",
    "    pcp.download('CSV', output_path, cmpds, operation='property/InChi', overwrite=True)\n",
    "    data=pd.read_csv(output_path, sep=',')\n",
    "    data['mol']=data['InChI'].progress_apply(MolFromInchi)\n",
    "    data['mol']=data['mol'].progress_apply(Chem.RemoveHs)\n",
    "    data['smiles']=data['mol'].progress_apply(rdkit.Chem.MolToSmiles, isomericSmiles=False)\n",
    "    data['OK']=data['smiles'].progress_apply(find_bad_str)\n",
    "    data=data[data['OK']==True]\n",
    "    data.drop_duplicates(subset =\"smiles\", inplace = True)\n",
    "    data.to_csv(output_path, sep='\\t', columns=['CID', 'smiles'])\n",
    "    print (len(data))"
   ]
  },
  {
   "cell_type": "code",
   "execution_count": 6,
   "metadata": {},
   "outputs": [
    {
     "data": {
      "application/vnd.jupyter.widget-view+json": {
       "model_id": "35b5cc78405f49deb7b072b60aaed77f",
       "version_major": 2,
       "version_minor": 0
      },
      "text/plain": [
       "HBox(children=(FloatProgress(value=0.0, max=6033.0), HTML(value='')))"
      ]
     },
     "metadata": {},
     "output_type": "display_data"
    },
    {
     "name": "stdout",
     "output_type": "stream",
     "text": [
      "\n"
     ]
    },
    {
     "data": {
      "application/vnd.jupyter.widget-view+json": {
       "model_id": "1d7714fa9ddb429988e38e7eda6ec8bb",
       "version_major": 2,
       "version_minor": 0
      },
      "text/plain": [
       "HBox(children=(FloatProgress(value=0.0, max=6033.0), HTML(value='')))"
      ]
     },
     "metadata": {},
     "output_type": "display_data"
    },
    {
     "name": "stdout",
     "output_type": "stream",
     "text": [
      "\n"
     ]
    },
    {
     "data": {
      "application/vnd.jupyter.widget-view+json": {
       "model_id": "1a4c8dca65584172b83f9d1ed41e1591",
       "version_major": 2,
       "version_minor": 0
      },
      "text/plain": [
       "HBox(children=(FloatProgress(value=0.0, max=6033.0), HTML(value='')))"
      ]
     },
     "metadata": {},
     "output_type": "display_data"
    },
    {
     "name": "stdout",
     "output_type": "stream",
     "text": [
      "\n"
     ]
    },
    {
     "data": {
      "application/vnd.jupyter.widget-view+json": {
       "model_id": "915b493575b84ec2bad5665249b7183e",
       "version_major": 2,
       "version_minor": 0
      },
      "text/plain": [
       "HBox(children=(FloatProgress(value=0.0, max=6033.0), HTML(value='')))"
      ]
     },
     "metadata": {},
     "output_type": "display_data"
    },
    {
     "name": "stdout",
     "output_type": "stream",
     "text": [
      "\n",
      "4927\n"
     ]
    }
   ],
   "source": [
    "get_list_of_isomers('C9H11NO3', 'Hydroxyphenylalanine.csv')"
   ]
  },
  {
   "cell_type": "code",
   "execution_count": 13,
   "metadata": {},
   "outputs": [],
   "source": []
  },
  {
   "cell_type": "code",
   "execution_count": 28,
   "metadata": {},
   "outputs": [],
   "source": []
  },
  {
   "cell_type": "code",
   "execution_count": null,
   "metadata": {},
   "outputs": [],
   "source": []
  }
 ],
 "metadata": {
  "kernelspec": {
   "display_name": "Python 3",
   "language": "python",
   "name": "python3"
  },
  "language_info": {
   "codemirror_mode": {
    "name": "ipython",
    "version": 3
   },
   "file_extension": ".py",
   "mimetype": "text/x-python",
   "name": "python",
   "nbconvert_exporter": "python",
   "pygments_lexer": "ipython3",
   "version": "3.7.6"
  }
 },
 "nbformat": 4,
 "nbformat_minor": 4
}
