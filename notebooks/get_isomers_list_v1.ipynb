{
 "cells": [
  {
   "cell_type": "markdown",
   "metadata": {},
   "source": [
    "### Get isomers for all compounds in evaluation sets"
   ]
  },
  {
   "cell_type": "code",
   "execution_count": 1,
   "metadata": {},
   "outputs": [
    {
     "name": "stderr",
     "output_type": "stream",
     "text": [
      "C:\\Users\\Sergey\\anaconda3\\lib\\site-packages\\tqdm\\std.py:658: FutureWarning: The Panel class is removed from pandas. Accessing it from the top-level namespace will also be removed in the next version\n",
      "  from pandas import Panel\n"
     ]
    }
   ],
   "source": [
    "import pubchempy as pcp\n",
    "import pandas as pd\n",
    "import rdkit\n",
    "from rdkit import Chem\n",
    "from rdkit.Chem.inchi import *\n",
    "from tqdm import tqdm \n",
    "tqdm.pandas()\n",
    "def get_formula_from_inchi(inchi):\n",
    "    formula = inchi.split('/')[1]\n",
    "    return formula\n",
    "\n",
    "def find_bad_str(string):\n",
    "    return string.find('.')==-1\n",
    "     \n",
    "def get_isomers_for_formula(formula,inchi,output_path):\n",
    "    cmpds=pcp.get_cids(formula, 'formula')\n",
    "    pcp.download('CSV', output_path, cmpds, operation='property/InChi', overwrite=True)\n",
    "    data=pd.read_csv(output_path, sep=',')\n",
    "    data['mol']=data['InChI'].progress_apply(MolFromInchi)\n",
    "    data = data.dropna(subset=['mol'])\n",
    "    data['mol']=data['mol'].progress_apply(Chem.RemoveHs)\n",
    "    data['smiles']=data['mol'].progress_apply(rdkit.Chem.MolToSmiles, isomericSmiles=True)\n",
    "    data['OK']=data['smiles'].progress_apply(find_bad_str)\n",
    "    data=data[data['OK']==True]\n",
    "    data.drop_duplicates(subset =\"InChI\", inplace = True)\n",
    "    cid = pcp.get_cids(inchi, 'inchi')[0]\n",
    "    if len(data[data.CID == cid]) == 0:\n",
    "        df = pd.DataFrame({'CID':[cid], 'InChI':[inchi]})\n",
    "        data = data.append(df)\n",
    "    data=data.reset_index()\n",
    "    data.to_csv(output_path, sep=';', columns=['CID', 'InChI'])\n",
    "    print (len(data))\n"
   ]
  },
  {
   "cell_type": "code",
   "execution_count": 5,
   "metadata": {},
   "outputs": [],
   "source": [
    "    %%capture\n",
    "    #specify path to eval sets\n",
    "    import os\n",
    "    eval_dir  = '../data/eval_sets/'\n",
    "    #for file in os.listdir(eval_dir):\n",
    "    file='unique_Eawag_XBridgeC18.csv'\n",
    "    name = file.split('.')[0].replace('unique_','')\n",
    "    os.makedirs( '../data/isomers/'+name,exist_ok=True)\n",
    "    data = pd.read_csv(eval_dir+file, sep=';')\n",
    "    data['formula'] = data.InChI.progress_apply(get_formula_from_inchi)\n",
    "    for i in range (len(data)):\n",
    "        if (data.Name[i]+'.csv' in os.listdir('../data/isomers/'+name+'/'))==False:\n",
    "            get_isomers_for_formula(data.formula[i], data.InChI[i], '../data/isomers/'+name+'/'+data.Name[i]+'.csv')"
   ]
  },
  {
   "cell_type": "code",
   "execution_count": null,
   "metadata": {},
   "outputs": [],
   "source": []
  }
 ],
 "metadata": {
  "kernelspec": {
   "display_name": "Python 3",
   "language": "python",
   "name": "python3"
  },
  "language_info": {
   "codemirror_mode": {
    "name": "ipython",
    "version": 3
   },
   "file_extension": ".py",
   "mimetype": "text/x-python",
   "name": "python",
   "nbconvert_exporter": "python",
   "pygments_lexer": "ipython3",
   "version": "3.7.6"
  }
 },
 "nbformat": 4,
 "nbformat_minor": 4
}
